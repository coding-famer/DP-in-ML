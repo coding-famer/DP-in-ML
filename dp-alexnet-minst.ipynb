{
  "cells": [
    {
      "cell_type": "code",
      "execution_count": 15,
      "metadata": {
        "colab": {
          "base_uri": "https://localhost:8080/"
        },
        "id": "fi9RkJQAwxYh",
        "outputId": "c11ab9d1-f8a0-429b-df19-8280aae835b5"
      },
      "outputs": [
        {
          "output_type": "stream",
          "name": "stdout",
          "text": [
            "Requirement already satisfied: opacus in /usr/local/lib/python3.7/dist-packages (1.1.1)\n",
            "Requirement already satisfied: scipy>=1.2 in /usr/local/lib/python3.7/dist-packages (from opacus) (1.4.1)\n",
            "Requirement already satisfied: numpy>=1.15 in /usr/local/lib/python3.7/dist-packages (from opacus) (1.21.6)\n",
            "Requirement already satisfied: torch>=1.8 in /usr/local/lib/python3.7/dist-packages (from opacus) (1.10.0+cu111)\n",
            "Requirement already satisfied: typing-extensions in /usr/local/lib/python3.7/dist-packages (from torch>=1.8->opacus) (4.1.1)\n"
          ]
        }
      ],
      "source": [
        "%pip install opacus"
      ]
    },
    {
      "cell_type": "code",
      "execution_count": 16,
      "metadata": {
        "id": "Qe2g585UwxYj"
      },
      "outputs": [],
      "source": [
        "import torch\n",
        "import torchvision\n",
        "import torch.nn as nn\n",
        "import torch.optim as optim\n",
        "import torchvision.transforms as transforms\n",
        "import torch.nn.functional as F\n",
        "import time\n",
        "import numpy as np\n",
        "\n",
        "from opacus import PrivacyEngine\n",
        "from opacus.utils.batch_memory_manager import BatchMemoryManager\n"
      ]
    },
    {
      "cell_type": "code",
      "execution_count": 17,
      "metadata": {
        "colab": {
          "base_uri": "https://localhost:8080/"
        },
        "id": "Sa8tULHVwxYl",
        "outputId": "5e239895-5769-4a9f-8c2d-3de04f8a023e"
      },
      "outputs": [
        {
          "output_type": "execute_result",
          "data": {
            "text/plain": [
              "device(type='cuda')"
            ]
          },
          "metadata": {},
          "execution_count": 17
        }
      ],
      "source": [
        "device = torch.device(\"cuda\" if torch.cuda.is_available() else \"cpu\")\n",
        "device"
      ]
    },
    {
      "cell_type": "code",
      "execution_count": 18,
      "metadata": {
        "colab": {
          "base_uri": "https://localhost:8080/"
        },
        "id": "Aho-UC-EwxYn",
        "outputId": "6828eafa-cce3-4f98-fa7b-534252b436fd"
      },
      "outputs": [
        {
          "output_type": "stream",
          "name": "stdout",
          "text": [
            "Thu Apr 21 01:34:39 2022       \n",
            "+-----------------------------------------------------------------------------+\n",
            "| NVIDIA-SMI 460.32.03    Driver Version: 460.32.03    CUDA Version: 11.2     |\n",
            "|-------------------------------+----------------------+----------------------+\n",
            "| GPU  Name        Persistence-M| Bus-Id        Disp.A | Volatile Uncorr. ECC |\n",
            "| Fan  Temp  Perf  Pwr:Usage/Cap|         Memory-Usage | GPU-Util  Compute M. |\n",
            "|                               |                      |               MIG M. |\n",
            "|===============================+======================+======================|\n",
            "|   0  Tesla K80           Off  | 00000000:00:04.0 Off |                    0 |\n",
            "| N/A   73C    P0    73W / 149W |   6488MiB / 11441MiB |      0%      Default |\n",
            "|                               |                      |                  N/A |\n",
            "+-------------------------------+----------------------+----------------------+\n",
            "                                                                               \n",
            "+-----------------------------------------------------------------------------+\n",
            "| Processes:                                                                  |\n",
            "|  GPU   GI   CI        PID   Type   Process name                  GPU Memory |\n",
            "|        ID   ID                                                   Usage      |\n",
            "|=============================================================================|\n",
            "+-----------------------------------------------------------------------------+\n"
          ]
        }
      ],
      "source": [
        "!/opt/bin/nvidia-smi"
      ]
    },
    {
      "cell_type": "markdown",
      "metadata": {
        "id": "BCJfHk7AwxYo"
      },
      "source": [
        "# 超参数设置"
      ]
    },
    {
      "cell_type": "code",
      "execution_count": 19,
      "metadata": {
        "id": "W830m3MzwxYp"
      },
      "outputs": [],
      "source": [
        "EPOCH = 30 # 遍历数据集次数\n",
        "BATCH_SIZE = 512  # 批处理尺寸(batch_size)\n",
        "LR = 0.01  # 学习率\n",
        "MAX_GRAD_NORM = 1.2\n",
        "EPSILON = 2\n",
        "DELTA = 1e-4\n",
        "MAX_PHYSICAL_BATCH_SIZE = 256"
      ]
    },
    {
      "cell_type": "markdown",
      "metadata": {
        "id": "3mqKzBugwxYq"
      },
      "source": [
        "# 获取数据"
      ]
    },
    {
      "cell_type": "code",
      "execution_count": 20,
      "metadata": {
        "id": "lJo6SLPPwxYr"
      },
      "outputs": [],
      "source": [
        "transform = transforms.ToTensor()\n",
        "trainset = torchvision.datasets.MNIST(root='./dataset',train=True,download=True,transform=transform)\n",
        "trainloader = torch.utils.data.DataLoader(trainset, batch_size=BATCH_SIZE,shuffle=True,num_workers=0)\n",
        "\n",
        "testset = torchvision.datasets.MNIST(root='./dataset',train=False,download=True,transform=transform)\n",
        "testloader = torch.utils.data.DataLoader(testset,batch_size=BATCH_SIZE,shuffle=False,num_workers=0)\n"
      ]
    },
    {
      "cell_type": "markdown",
      "metadata": {
        "id": "vjMwoWN7wxYt"
      },
      "source": [
        "# 定义网络"
      ]
    },
    {
      "cell_type": "code",
      "execution_count": 21,
      "metadata": {
        "id": "ecZtqUEcwxYu"
      },
      "outputs": [],
      "source": [
        "class AlexNet(nn.Module):\n",
        "    def __init__(self, width_mult=1):\n",
        "        super(AlexNet, self).__init__()\n",
        "        self.layer1 = nn.Sequential( # 输入1*28*28\n",
        "            nn.Conv2d(1, 32, kernel_size=3, padding=1), # 32*28*28\n",
        "            nn.MaxPool2d(kernel_size=2, stride=2), # 32*14*14\n",
        "            nn.ReLU(inplace=True),\n",
        "            )\n",
        "        self.layer2 = nn.Sequential(\n",
        "            nn.Conv2d(32, 64, kernel_size=3, padding=1), # 64*14*14\n",
        "            nn.MaxPool2d(kernel_size=2, stride=2), # 64*7*7\n",
        "            nn.ReLU(inplace=True),\n",
        "            )\n",
        "        self.layer3 = nn.Sequential(\n",
        "            nn.Conv2d(64, 128, kernel_size=3, padding=1), # 128*7*7\n",
        "            )\n",
        "        self.layer4 = nn.Sequential(\n",
        "            nn.Conv2d(128, 256, kernel_size=3, padding=1), # 256*7*7\n",
        "            )\n",
        " \n",
        "        self.layer5 = nn.Sequential(\n",
        "            nn.Conv2d(256, 256, kernel_size=3, padding=1), # 256*7*7\n",
        "            nn.MaxPool2d(kernel_size=3, stride=2), # 256*3*3\n",
        "            nn.ReLU(inplace=True),\n",
        "            )\n",
        "        self.fc1 = nn.Linear(256*3*3, 1024)\n",
        "        self.fc2 = nn.Linear(1024, 512)\n",
        "        self.fc3 = nn.Linear(512, 10)\n",
        " \n",
        "    def forward(self, x):\n",
        "        x = self.layer1(x)\n",
        "        x = self.layer2(x)\n",
        "        x = self.layer3(x)\n",
        "        x = self.layer4(x)\n",
        "        x = self.layer5(x)\n",
        "        x = x.view(-1, 256*3*3)\n",
        "        x = self.fc1(x)\n",
        "        x = self.fc2(x)\n",
        "        x = self.fc3(x)\n",
        "        return x"
      ]
    },
    {
      "cell_type": "markdown",
      "metadata": {
        "id": "MKgAtvTqwxYv"
      },
      "source": [
        "# 定义网络损失函数优化器"
      ]
    },
    {
      "cell_type": "markdown",
      "metadata": {
        "id": "bntro8LzwxYw"
      },
      "source": [
        "该部分尝试自己改写梯度下降，但仿佛会让梯度爆炸，暂时先不用"
      ]
    },
    {
      "cell_type": "code",
      "execution_count": 22,
      "metadata": {
        "id": "gKw0EwA7wxYx"
      },
      "outputs": [],
      "source": [
        "# epsilon = 2\n",
        "\n",
        "# # This analysis has a total privacy cost of epsilon = 1, even though we release many results!\n",
        "# f = lambda x: x + np.random.laplace(loc=0, scale=1/epsilon)\n",
        "\n",
        "# def mysgd(params, lr, batch_size):  \n",
        "#     \"\"\"小批量随机梯度下降\"\"\"\n",
        "#     # print(params)\n",
        "#     with torch.no_grad():\n",
        "#         for param in params:\n",
        "#             # print(param)\n",
        "#             # param -= (lr * param.grad / batch_size).apply(f)\n",
        "#             # param -= (lr * (param.grad+ torch.tensor(np.random.laplace(loc=0, scale=1/epsilon))) ) \n",
        "#             param -= (lr * param.grad) + torch.tensor(np.random.laplace(loc=0, scale=5/epsilon))\n",
        "\n",
        "#             # param -= lr * param.grad / batch_size\n",
        "#             param.grad.zero_()\n",
        "#             # print(param)\n"
      ]
    },
    {
      "cell_type": "code",
      "execution_count": 23,
      "metadata": {
        "colab": {
          "base_uri": "https://localhost:8080/"
        },
        "id": "USsdwtv5wxYy",
        "outputId": "ee7f9556-09b2-492d-f4fc-a40a06af7da1"
      },
      "outputs": [
        {
          "output_type": "execute_result",
          "data": {
            "text/plain": [
              "[]"
            ]
          },
          "metadata": {},
          "execution_count": 23
        }
      ],
      "source": [
        "net = AlexNet()\n",
        "from opacus.validators import ModuleValidator\n",
        "\n",
        "errors = ModuleValidator.validate(net, strict=False)\n",
        "errors[-5:]"
      ]
    },
    {
      "cell_type": "code",
      "execution_count": 24,
      "metadata": {
        "id": "aEj8AMdAyKD9"
      },
      "outputs": [],
      "source": [
        "net = ModuleValidator.fix(net)\n",
        "ModuleValidator.validate(net, strict=False)\n",
        "net = net.to(device)\n"
      ]
    },
    {
      "cell_type": "code",
      "execution_count": 25,
      "metadata": {
        "id": "O3bJFyn82_8l"
      },
      "outputs": [],
      "source": [
        "criterion = nn.CrossEntropyLoss()  # 交叉熵损失函数，通常用于多分类问题上\n",
        "optimizer = optim.SGD(net.parameters(), lr=LR, momentum=0.9)"
      ]
    },
    {
      "cell_type": "code",
      "execution_count": 26,
      "metadata": {
        "colab": {
          "base_uri": "https://localhost:8080/"
        },
        "id": "KoaV_cc3wxYy",
        "outputId": "ac7517c5-957f-4a75-ffe7-66e40cf956c5"
      },
      "outputs": [
        {
          "output_type": "stream",
          "name": "stderr",
          "text": [
            "/usr/local/lib/python3.7/dist-packages/opacus/privacy_engine.py:115: UserWarning: Secure RNG turned off. This is perfectly fine for experimentation as it allows for much faster training performance, but remember to turn it on and retrain one last time before production with ``secure_mode`` turned on.\n",
            "  \"Secure RNG turned off. This is perfectly fine for experimentation as it allows \"\n",
            "/usr/local/lib/python3.7/dist-packages/opacus/accountants/analysis/rdp.py:333: UserWarning: Optimal order is the largest alpha. Please consider expanding the range of alphas to get a tighter privacy bound.\n",
            "  f\"Optimal order is the {extreme} alpha. Please consider expanding the range of alphas to get a tighter privacy bound.\"\n"
          ]
        },
        {
          "output_type": "stream",
          "name": "stdout",
          "text": [
            "Using sigma=1.1962890625 and C=1.2\n"
          ]
        }
      ],
      "source": [
        "privacy_engine = PrivacyEngine()\n",
        "\n",
        "net, optimizer, train_loader = privacy_engine.make_private_with_epsilon(\n",
        "    module=net,\n",
        "    optimizer=optimizer,\n",
        "    data_loader=trainloader,\n",
        "    epochs=EPOCH,\n",
        "    target_epsilon=EPSILON,\n",
        "    target_delta=DELTA,\n",
        "    max_grad_norm=MAX_GRAD_NORM,\n",
        ")\n",
        "\n",
        "print(f\"Using sigma={optimizer.noise_multiplier} and C={MAX_GRAD_NORM}\")"
      ]
    },
    {
      "cell_type": "markdown",
      "metadata": {
        "id": "nbsbjGIawxYz"
      },
      "source": [
        "# 训练"
      ]
    },
    {
      "cell_type": "code",
      "execution_count": 27,
      "metadata": {
        "id": "pd2EIhuuwxYz"
      },
      "outputs": [],
      "source": [
        "def train():\n",
        " \n",
        "    for epoch in range(EPOCH):\n",
        "        sum_loss = []\n",
        "        net.train()\n",
        "        with BatchMemoryManager(\n",
        "            data_loader=trainloader, \n",
        "            max_physical_batch_size=MAX_PHYSICAL_BATCH_SIZE, \n",
        "            optimizer=optimizer\n",
        "        ) as memory_safe_data_loader:\n",
        "            # 数据读取\n",
        "            for i, data in enumerate(memory_safe_data_loader):\n",
        "                # 梯度清零\n",
        "                optimizer.zero_grad() \n",
        "                inputs, labels = data\n",
        "                inputs, labels = inputs.to(device), labels.to(device)\n",
        "    \n",
        "   \n",
        "                # forward + backward\n",
        "                outputs = net(inputs)\n",
        "                loss = criterion(outputs, labels)\n",
        "                loss.backward()\n",
        "                optimizer.step()\n",
        "                # mysgd(net.parameters(), lr=LR, batch_size=BATCH_SIZE)\n",
        "    \n",
        "                # 每训练100个batch打印一次平均loss\n",
        "                sum_loss.append(loss.item())\n",
        "                # if i % 100 == 99:\n",
        "                #     print('[%d, %d] loss: %.03f'\n",
        "                #         % (epoch + 1, i + 1, sum_loss / 100))\n",
        "                #     sum_loss = 0.0\n",
        "            # 每跑完一次epoch测试一下准确率\n",
        "            net.eval()\n",
        "            with torch.no_grad():\n",
        "                correct = 0\n",
        "                total = 0\n",
        "                for data in testloader:\n",
        "                    images, labels = data\n",
        "                    images, labels = images.to(device), labels.to(device)\n",
        "                    outputs = net(images)\n",
        "                    # 取得分最高的那个类\n",
        "                    _, predicted = torch.max(outputs.data, 1)\n",
        "                    total += labels.size(0)\n",
        "                    correct += (predicted == labels).sum()\n",
        "                epsilon = privacy_engine.get_epsilon(DELTA)\n",
        "                print('第%d个epoch的识别准确率为：%d%%' % (epoch + 1, (100 * correct / total)),\"loss为%f\" % (np.mean(sum_loss)),f\"(ε = {epsilon:.2f}, δ = {DELTA})\")\n",
        "            # 保存模型参数\n",
        "            # torch.save(net.state_dict(), './params.pth')"
      ]
    },
    {
      "cell_type": "code",
      "execution_count": 28,
      "metadata": {
        "colab": {
          "base_uri": "https://localhost:8080/"
        },
        "id": "2QEsXAhkwxY0",
        "outputId": "1a89a27a-4595-4750-ab2c-f2f428d852d1"
      },
      "outputs": [
        {
          "output_type": "stream",
          "name": "stderr",
          "text": [
            "/usr/local/lib/python3.7/dist-packages/torch/nn/modules/module.py:1025: UserWarning: Using a non-full backward hook when the forward contains multiple autograd Nodes is deprecated and will be removed in future versions. This hook will be missing some grad_input. Please use register_full_backward_hook to get the documented behavior.\n",
            "  warnings.warn(\"Using a non-full backward hook when the forward contains multiple autograd Nodes \"\n"
          ]
        },
        {
          "output_type": "stream",
          "name": "stdout",
          "text": [
            "第1个epoch的识别准确率为：28% loss为2.289759 (ε = 0.55, δ = 0.0001)\n",
            "第2个epoch的识别准确率为：59% loss为2.087370 (ε = 0.62, δ = 0.0001)\n",
            "第3个epoch的识别准确率为：64% loss为1.369642 (ε = 0.69, δ = 0.0001)\n",
            "第4个epoch的识别准确率为：69% loss为0.988036 (ε = 0.76, δ = 0.0001)\n",
            "第5个epoch的识别准确率为：73% loss为0.875751 (ε = 0.82, δ = 0.0001)\n",
            "第6个epoch的识别准确率为：76% loss为0.849529 (ε = 0.88, δ = 0.0001)\n",
            "第7个epoch的识别准确率为：77% loss为0.826020 (ε = 0.94, δ = 0.0001)\n",
            "第8个epoch的识别准确率为：79% loss为0.814218 (ε = 1.00, δ = 0.0001)\n",
            "第9个epoch的识别准确率为：81% loss为0.810509 (ε = 1.06, δ = 0.0001)\n",
            "第10个epoch的识别准确率为：81% loss为0.801823 (ε = 1.12, δ = 0.0001)\n",
            "第11个epoch的识别准确率为：83% loss为0.791835 (ε = 1.17, δ = 0.0001)\n",
            "第12个epoch的识别准确率为：84% loss为0.769097 (ε = 1.22, δ = 0.0001)\n",
            "第13个epoch的识别准确率为：84% loss为0.758918 (ε = 1.27, δ = 0.0001)\n",
            "第14个epoch的识别准确率为：85% loss为0.745147 (ε = 1.33, δ = 0.0001)\n",
            "第15个epoch的识别准确率为：86% loss为0.728392 (ε = 1.37, δ = 0.0001)\n",
            "第16个epoch的识别准确率为：87% loss为0.711224 (ε = 1.42, δ = 0.0001)\n",
            "第17个epoch的识别准确率为：87% loss为0.691111 (ε = 1.47, δ = 0.0001)\n",
            "第18个epoch的识别准确率为：88% loss为0.670106 (ε = 1.51, δ = 0.0001)\n",
            "第19个epoch的识别准确率为：88% loss为0.655455 (ε = 1.56, δ = 0.0001)\n",
            "第20个epoch的识别准确率为：88% loss为0.645371 (ε = 1.60, δ = 0.0001)\n",
            "第21个epoch的识别准确率为：88% loss为0.633558 (ε = 1.64, δ = 0.0001)\n",
            "第22个epoch的识别准确率为：89% loss为0.617066 (ε = 1.68, δ = 0.0001)\n",
            "第23个epoch的识别准确率为：89% loss为0.607644 (ε = 1.72, δ = 0.0001)\n",
            "第24个epoch的识别准确率为：89% loss为0.598018 (ε = 1.76, δ = 0.0001)\n",
            "第25个epoch的识别准确率为：90% loss为0.587792 (ε = 1.80, δ = 0.0001)\n",
            "第26个epoch的识别准确率为：90% loss为0.579614 (ε = 1.84, δ = 0.0001)\n",
            "第27个epoch的识别准确率为：90% loss为0.570178 (ε = 1.88, δ = 0.0001)\n",
            "第28个epoch的识别准确率为：90% loss为0.565482 (ε = 1.92, δ = 0.0001)\n",
            "第29个epoch的识别准确率为：90% loss为0.542561 (ε = 1.96, δ = 0.0001)\n",
            "第30个epoch的识别准确率为：90% loss为0.531741 (ε = 1.99, δ = 0.0001)\n"
          ]
        }
      ],
      "source": [
        "train()"
      ]
    },
    {
      "cell_type": "code",
      "execution_count": 28,
      "metadata": {
        "id": "abZi5GPwwxY1"
      },
      "outputs": [],
      "source": [
        ""
      ]
    }
  ],
  "metadata": {
    "accelerator": "GPU",
    "colab": {
      "name": "dp-alexnet-minst.ipynb",
      "provenance": []
    },
    "interpreter": {
      "hash": "73e1d25d57e14df6cec64c283e0dd23faae1c4fc370d549e379c51e4d2bab0ac"
    },
    "kernelspec": {
      "display_name": "Python 3.8.10 ('pytorch')",
      "language": "python",
      "name": "python3"
    },
    "language_info": {
      "codemirror_mode": {
        "name": "ipython",
        "version": 3
      },
      "file_extension": ".py",
      "mimetype": "text/x-python",
      "name": "python",
      "nbconvert_exporter": "python",
      "pygments_lexer": "ipython3",
      "version": "3.8.10"
    },
    "orig_nbformat": 4
  },
  "nbformat": 4,
  "nbformat_minor": 0
}